{
  "nbformat": 4,
  "nbformat_minor": 0,
  "metadata": {
    "colab": {
      "name": "JJS Homework5.ipynb",
      "provenance": [],
      "collapsed_sections": [],
      "authorship_tag": "ABX9TyOI6rtNv4K1rTWMxXl+Wxl4",
      "include_colab_link": true
    },
    "kernelspec": {
      "name": "python3",
      "display_name": "Python 3"
    },
    "language_info": {
      "name": "python"
    }
  },
  "cells": [
    {
      "cell_type": "markdown",
      "metadata": {
        "id": "view-in-github",
        "colab_type": "text"
      },
      "source": [
        "<a href=\"https://colab.research.google.com/github/jjschueder/NLP/blob/main/JJS_Homework5.ipynb\" target=\"_parent\"><img src=\"https://colab.research.google.com/assets/colab-badge.svg\" alt=\"Open In Colab\"/></a>"
      ]
    },
    {
      "cell_type": "markdown",
      "metadata": {
        "id": "LXq5U7gSxdOH"
      },
      "source": [
        "# Homework 5\n",
        "## Joe Schueder\n",
        "\n",
        "1.\tCompile a list of static links (permalinks) to individual user movie reviews from one particular website. This will be your working dataset for this assignment, as well as for assignments 7 and 8, which together will make up your semester project.   \n",
        "a.\tIt does not matter if you use a crawler or if you manually collect the links, but you will need at least 100 movie review links. Note that, as of this writing, the robots.txt file of IMDB.com allows the crawling of user reviews.  \n",
        "b.\tEach link should be to a web page that has only one user review of only one movie, e.g., the user review permalinks on the IMDB site.  \n",
        "c.\tChoose reviews of movies that are all in the same genre, e.g., sci-fi, mystery, romance, superhero, etc.    \n",
        "d.\tMake sure your collection includes reviews of several movies in your chosen genre and that it includes a mix of negative and positive reviews.    \n",
        "\n",
        "2.\tExtract noun phrase (NP) chunks from your reviews using the following procedure:  \n",
        "a.\tIn Python, use BeautifulSoup to grab the main review text from each link.  \n",
        "b.\tNext run each review text through a tokenizer, and then try to NP-chunk it with a shallow parser.   \n",
        "c.\tYou probably will have too many unknown words, owing to proper names of characters, actors, and so on that are not in your working dictionary. Make sure the main names that are relevant to the movies in your collection of reviews are added to the working lexicon, and then run the NP chunker again.  \n",
        "\n",
        "3.\tOutput all the chunks in a single list for each review, and submit that output for this assignment. Also submit a brief written summary of what you did (describe your selection of genre, your source of reviews, how many you collected, and by what means).\n"
      ]
    },
    {
      "cell_type": "code",
      "metadata": {
        "id": "pDo1aiJrxcZe",
        "colab": {
          "base_uri": "https://localhost:8080/"
        },
        "outputId": "343abb1a-f8f8-4c9f-f983-2ffcbe6637b7"
      },
      "source": [
        "import requests #needed to load the page for BS4\n",
        "from bs4 import BeautifulSoup\n",
        "import pandas as pd\n",
        "import spacy\n",
        "nlp = spacy.load('en_core_web_sm')\n",
        "print(nlp.pipe_names)\n",
        "nlp.pipeline"
      ],
      "execution_count": 2,
      "outputs": [
        {
          "output_type": "stream",
          "text": [
            "['tagger', 'parser', 'ner']\n"
          ],
          "name": "stdout"
        },
        {
          "output_type": "execute_result",
          "data": {
            "text/plain": [
              "[('tagger', <spacy.pipeline.pipes.Tagger at 0x7f6120f77f90>),\n",
              " ('parser', <spacy.pipeline.pipes.DependencyParser at 0x7f61210b2e50>),\n",
              " ('ner', <spacy.pipeline.pipes.EntityRecognizer at 0x7f61210b2ec0>)]"
            ]
          },
          "metadata": {
            "tags": []
          },
          "execution_count": 2
        }
      ]
    },
    {
      "cell_type": "code",
      "metadata": {
        "id": "IDKk5o6czwHA"
      },
      "source": [
        "url1 = 'https://www.imdb.com/search/title/?genres=sci-fi&view=simple&explore=title_type,genres&title_type=movie&ref_=adv_explore_rhs'\n",
        "url2 = 'https://www.imdb.com/search/title/?title_type=movie&genres=sci-fi&view=simple&start=51&explore=title_type,genres&ref_=adv_nxt'"
      ],
      "execution_count": 3,
      "outputs": []
    },
    {
      "cell_type": "code",
      "metadata": {
        "id": "QfQoBEJI2QSR"
      },
      "source": [
        "html = requests.get(url1, stream=True)\n",
        "page = BeautifulSoup(html.text, 'html.parser')\n",
        "links = page.find_all('a href')\n",
        "\n",
        "html2 = requests.get(url2, stream=True)\n",
        "page2 = BeautifulSoup(html2.text, 'html.parser')\n",
        "links2 = page.find_all('a href')"
      ],
      "execution_count": 4,
      "outputs": []
    },
    {
      "cell_type": "code",
      "metadata": {
        "id": "jpZGO7WU3OAb"
      },
      "source": [
        "linklist = []\n",
        "for a in page.find_all('a', href=True):\n",
        "    #print (\"Found the URL:\", a['href'])\n",
        "    if 'title/tt' in a['href']:\n",
        "      #print(a)\n",
        "      string = 'https://www.imdb.com' + a['href'] + 'reviews/?ref_=tt_ql_urv'\n",
        "      linklist.append(string)\n",
        "\n",
        "for a in page2.find_all('a', href=True):\n",
        "    #print (\"Found the URL:\", a['href'])\n",
        "    if 'title/tt' in a['href']:\n",
        "      string = 'https://www.imdb.com' + a['href'] + 'reviews/?ref_=tt_ql_urv'\n",
        "      linklist.append(string)      "
      ],
      "execution_count": 42,
      "outputs": []
    },
    {
      "cell_type": "code",
      "metadata": {
        "id": "jPggmCKbX8f8"
      },
      "source": [
        "reviews = pd.DataFrame(columns=['MovieLink', 'MovieNumber', 'ReviewNumber', 'Review'])\n",
        "for i, val in enumerate(linklist):\n",
        "  htmlr = requests.get(val, stream=True)\n",
        "  pager = BeautifulSoup(htmlr.text, 'html.parser')\n",
        "  #linksr = page.find_all('a href')\n",
        "\n",
        "  #soup = BeautifulSoup(pager)\n",
        "  mydivs = pager.findAll(\"div\", {\"class\": \"text show-more__control\"})\n",
        "  movie_containers = pager.find_all('div', class_ = 'parent')\n",
        "  mytitle = movie_containers[0].text\n",
        "  mytitle\n",
        "  mytitle = mytitle.strip('\\n')\n",
        "  mytitle = mytitle.replace('\\n','')\n",
        "  mytitle = mytitle.replace('  ','')\n",
        "  mytitle\n",
        "  for i2, val2 in enumerate(mydivs):\n",
        "    #print(i, i2, val, val2)\n",
        "    reviewdict = {'Title': mytitle, 'MovieLink':val,'MovieNumber': i, 'ReviewNumber': i2,'Review':val2.text}\n",
        "    df = pd.DataFrame(reviewdict, index=[0]) \n",
        "    reviews = reviews.append(df)"
      ],
      "execution_count": 36,
      "outputs": []
    },
    {
      "cell_type": "code",
      "metadata": {
        "id": "XfaJaDvIxh7i"
      },
      "source": [
        "def getNounChunks(user_review):\n",
        "    \n",
        "    # create the doc object\n",
        "    doc = nlp(user_review)\n",
        "    \n",
        "    # get a list of noun_chunks\n",
        "    noun_chunks = list(doc.noun_chunks)\n",
        "    \n",
        "    # convert noun_chunks from span objects to strings, otherwise it won't pickle\n",
        "    noun_chunks_strlist = [chunk.text for chunk in noun_chunks]\n",
        "    \n",
        "    return noun_chunks_strlist"
      ],
      "execution_count": 39,
      "outputs": []
    },
    {
      "cell_type": "code",
      "metadata": {
        "id": "tG1W--i3xmfh"
      },
      "source": [
        "reviews['noun_chunks'] = reviews['Review'].apply(getNounChunks)"
      ],
      "execution_count": 40,
      "outputs": []
    },
    {
      "cell_type": "code",
      "metadata": {
        "id": "-4VtGOsqzbe1"
      },
      "source": [
        "pd.set_option('max_colwidth', 2500)"
      ],
      "execution_count": 43,
      "outputs": []
    },
    {
      "cell_type": "code",
      "metadata": {
        "colab": {
          "base_uri": "https://localhost:8080/",
          "height": 1000
        },
        "id": "D2ScfAFWy_In",
        "outputId": "c636b951-e620-4195-f4a8-4c4c81895213"
      },
      "source": [
        "reviews.head(10)"
      ],
      "execution_count": 44,
      "outputs": [
        {
          "output_type": "execute_result",
          "data": {
            "text/html": [
              "<div>\n",
              "<style scoped>\n",
              "    .dataframe tbody tr th:only-of-type {\n",
              "        vertical-align: middle;\n",
              "    }\n",
              "\n",
              "    .dataframe tbody tr th {\n",
              "        vertical-align: top;\n",
              "    }\n",
              "\n",
              "    .dataframe thead th {\n",
              "        text-align: right;\n",
              "    }\n",
              "</style>\n",
              "<table border=\"1\" class=\"dataframe\">\n",
              "  <thead>\n",
              "    <tr style=\"text-align: right;\">\n",
              "      <th></th>\n",
              "      <th>MovieLink</th>\n",
              "      <th>MovieNumber</th>\n",
              "      <th>ReviewNumber</th>\n",
              "      <th>Review</th>\n",
              "      <th>Title</th>\n",
              "      <th>noun_chunks</th>\n",
              "    </tr>\n",
              "  </thead>\n",
              "  <tbody>\n",
              "    <tr>\n",
              "      <th>0</th>\n",
              "      <td>https://www.imdb.com/title/tt8332922/reviews/?ref_=tt_ql_urv</td>\n",
              "      <td>0</td>\n",
              "      <td>0</td>\n",
              "      <td>.......and if you enjoyed the first one then you'll certainly enjoy this one too.Most sequels that flop tend to do so because the powers that be think the audience simply want exponentially more of the same thing that was in the original. More bad guys, more explosions, much, much more of everything. Except story and depth and character development.A Quiet Place II, thankfully, doesn't fall into that trap. It starts almost exactly where it left off. Right at the point in fact, where we were left wanting to see more in the first film. Then it simply and effectively expands on the original.Overall I rate it as good as the first instalment, if not marginally better in places. If it has any fault at all, it's in the runtime which, IMHO, is a tad short. We definitely wanted to see more though and who knows, maybe there'll be a third one? Let's hope so.</td>\n",
              "      <td>A Quiet Place Part II(2020)</td>\n",
              "      <td>[you, the first one, you, this one, Most sequels, flop, the powers, the audience, the same thing, the original, More bad guys, more explosions, everything, story, depth, character development, A Quiet Place II, that trap, It, it, the point, fact, we, the first film, it, the original, I, it, the first instalment, places, it, any fault, it, the runtime, We, who, 's]</td>\n",
              "    </tr>\n",
              "    <tr>\n",
              "      <th>0</th>\n",
              "      <td>https://www.imdb.com/title/tt8332922/reviews/?ref_=tt_ql_urv</td>\n",
              "      <td>0</td>\n",
              "      <td>1</td>\n",
              "      <td>It's rare that we get movie movies that evolve upon their predecessor and leaves us craving more!Perfect amount of drama, suspenseful moments and action.John Kransinki has created such a fantastic \"monster world\" and I can't see anyone else directing these films. This is HIS baby..10/10, highly recommended.</td>\n",
              "      <td>A Quiet Place Part II(2020)</td>\n",
              "      <td>[It, we, movie movies, their predecessor, us, more!Perfect amount, drama, suspenseful moments, action, John Kransinki, such a fantastic \"monster world, I, anyone, these films, HIS baby]</td>\n",
              "    </tr>\n",
              "    <tr>\n",
              "      <th>0</th>\n",
              "      <td>https://www.imdb.com/title/tt8332922/reviews/?ref_=tt_ql_urv</td>\n",
              "      <td>0</td>\n",
              "      <td>2</td>\n",
              "      <td>Best cinema experience I've had in a while. A near full house with a near silent crowd (some loud eaters heh). Some may not of enjoyed the lack of plot (as in not much happens) and the ending, but I just see this film as a continuation of the story (as it's obvious there will be a third). You have to remember that it's right after the ending of the first one so the setting and time is the exact same, I think some people didn't get that. Millicent Simmonds shines in this film and Cillian Murphy alongside her only makes it better. Emily Blunt is still great but steps down this time and let's Millicent take the spotlight and she uses it perfectly. I didn't find the sequel as scary as the first film, but the scenes that had some jump scares in them were executed very well. Replacing the lack of scares in this film are big action pieces, which are great on the big screen, but I would of preferred more silent scenes where sound is used as a jump scare element rather than big explosions and loud sounds, but the action was still intense. Again, the sound design is perfect, especially when we're through Regans perspective and sound is cut out completely. Favourite scene was definitely the opening, big action scenes and a good origin to how the world is how it is. The only thing that bugged me was the theme of family has died down. It's now become 'every man for himself' almost, but we get a few moments that revolve around the theme of family, but you can see Regan and Marcus trying to be like their father during the film and trying to lead the family to safety. Highly recommend seeing this film, even if horror is not your taste you can appreciate the sound and production design.</td>\n",
              "      <td>A Quiet Place Part II(2020)</td>\n",
              "      <td>[Best cinema experience, I, a while, full house, a near silent crowd, some loud eaters, the lack, plot, the ending, I, this film, a continuation, the story, it, You, it, the ending, the first one, the setting, time, I, some people, Millicent Simmonds, this film, Cillian Murphy, it, Emily Blunt, 's, Millicent, the spotlight, she, it, I, the sequel, the first film, the scenes, some jump scares, them, the lack, scares, this film, big action pieces, the big screen, I, preferred more silent scenes, sound, a jump scare element, big explosions, loud sounds, the action, the sound design, we, sound, Favourite scene, the opening, big action scenes, a good origin, the world, it, The only thing, me, the theme, family, It, every man, himself, we, a few moments, the theme, family, you, Regan, Marcus, their father, the film, the family, safety, this film, horror, your taste, you, the sound and production design]</td>\n",
              "    </tr>\n",
              "    <tr>\n",
              "      <th>0</th>\n",
              "      <td>https://www.imdb.com/title/tt8332922/reviews/?ref_=tt_ql_urv</td>\n",
              "      <td>0</td>\n",
              "      <td>3</td>\n",
              "      <td>I went to see this in an advanced screening, so I had not read any reviews , and I think that is the best way to see it, by not reading reviews so it does not spoil anything. Having seen the first one I was eagerly awaiting part 2, and it's absolutely worth the wait. It was thrilling and tense non stop from start to finish, the pacing is brilliant with great acting. Krasinski as writer and director has absolutely nailed it. I just wish there were more movies of this calibre. I'm not going to spoil anything here, don't read any reviews and just go see this thrilling movie at the cinema on the big screen, as it was made for this..you will not be disappointed.</td>\n",
              "      <td>A Quiet Place Part II(2020)</td>\n",
              "      <td>[I, an advanced screening, I, any reviews, I, the best way, it, reviews, it, anything, I, part, it, It, start, finish, the pacing, great acting, Krasinski, writer, director, it, I, more movies, this calibre, I, anything, any reviews, this thrilling movie, the cinema, the big screen, it, you]</td>\n",
              "    </tr>\n",
              "    <tr>\n",
              "      <th>0</th>\n",
              "      <td>https://www.imdb.com/title/tt8332922/reviews/?ref_=tt_ql_urv</td>\n",
              "      <td>0</td>\n",
              "      <td>4</td>\n",
              "      <td>I always say the opening scene/sequence of a film is crucial, and even more so in a horror movie. When the title card 'Day 1' pops up at the beginning of 'A Quiet Place Part 2' you know you are in for a treat. And it is a truly great sequence. I'm not normally a huge proponent of jump-scares, however the first one in this movie absolutely got me, and I'm rarely gotten. This sequence sets the tone for the film masterfully and then everything else flows from there.There is a lot I like about this film, but also a bit I didn't. I'll get the negatives out of the way first so I can finish on a positive note. The film missed John Krasinski in an acting role. In the little bit of time we get with him we are reminded of just how charming and charismatic he is. Cillian Murphy just can't replicate it. The film also didn't feel like it added much to the first. The story advances, but we don't get any new information. The film seems to exist purely as a bridge between the first and what I assume will soon be the third entry in the series. There's also a little bit of a hopeless feeling about everything. We aren't exactly sure what the endgame is in all this and that can make it slightly less investing.The positives though are plentiful. Krasinski proves the original was no fluke, he is indeed a gifted director. The film looks great, in particular the monsters. The characters are again extremely likeable, particularly both of the children. Getting kid actors to make it work is so rare but these films achieve that and the film is so much better for it. Also the pacing is lightning quick. The film is basically non-stop and the credits rolling is going to catch a lot of people off-guard I suspect.I'm a little torn on this one. I like it, but certainly a little less than the first one. It ramps things up with a lot more action and a lot more of the monsters. But it does miss Krasinski in an acting role big time and doesn't quite have the innovation of the first. It's definitely worth a watch though and I eagerly await the next entry.</td>\n",
              "      <td>A Quiet Place Part II(2020)</td>\n",
              "      <td>[I, the opening scene, sequence, a film, a horror movie, the title card 'Day, the beginning, A Quiet Place, you, you, a treat, it, a truly great sequence, I, a huge proponent, jump-scares, this movie, me, I, This sequence, the tone, the film, everything, a lot, I, this film, a bit, I, I, the negatives, the way, I, a positive note, The film, John Krasinski, an acting role, the little bit, time, we, him, we, he, Cillian Murphy, it, The film, it, The story, we, any new information, The film, a bridge, what, I, the third entry, the series, a little bit, a hopeless feeling, everything, We, what, the endgame, it, The positives, Krasinski, the original, no fluke, he, a gifted director, The film, The characters, the children, kid actors, it, these films, the film, it, the pacing, The film, the credits, a lot, people, guard, I, I'm, this one, I, it, It, things, a lot more action, the monsters, it, Krasinski, an acting role, the innovation, It, I, the next entry]</td>\n",
              "    </tr>\n",
              "    <tr>\n",
              "      <th>0</th>\n",
              "      <td>https://www.imdb.com/title/tt8332922/reviews/?ref_=tt_ql_urv</td>\n",
              "      <td>0</td>\n",
              "      <td>5</td>\n",
              "      <td>That's the first thing I said when the movie ended. I liked the movie but we needed more closure. In the first movie it was a good ending because we found out how to kill the monsters. But in this one, we already knew how to kill them, so it wasn't that big of a deal. Idk, maybe I was expecting more but it needed more closure.</td>\n",
              "      <td>A Quiet Place Part II(2020)</td>\n",
              "      <td>[the first thing, I, the movie, I, the movie, we, more closure, the first movie, it, a good ending, we, the monsters, this one, we, them, it, a deal, I, it, more closure]</td>\n",
              "    </tr>\n",
              "    <tr>\n",
              "      <th>0</th>\n",
              "      <td>https://www.imdb.com/title/tt8332922/reviews/?ref_=tt_ql_urv</td>\n",
              "      <td>0</td>\n",
              "      <td>6</td>\n",
              "      <td>Once thing that is constantly pointed out as a pain point of horror/suspense movies is a either a character doing something highly illogical or plain dumb to create drama and/or further the story....AQP1 refreshing did not suffer from this, it was more of a series of bad events that built upon each other and that allowed it to keep the creepy tone it was trying to cultivate.AQP2 however is driven by these type of things and it's what honestly makes the movie so difficult to watch.The most glaring example is the actions of the children, the son's actions being slightly kore egregious then the daughters.The son, after getting his leg clamped down by a bear trap (in so much pain he openly screams out knowing it could lead to his death)... decides to investigate their living situation in the warehouse when his mom leaves to get supplies...also leaving him in charge of watching the baby.This action is so absolutely idiotic I can't even imagine a child would engage in it. His leg/ankle was just destroyed by a bear trap, he has been tasked with watching his little brother and on top of all that throughout both movies he's shown that he is generally pretty scared at the idea of these creatures and only desire to be brave when it's out of necessity... despite ALL OF THIS, he goes against physical pain, his defined personality, common sense and task of watching the baby to go investigate his surrounds... for literally no reason. Of course on cue he sees a dead person behind a curtain, makes a lot of noise and attracts the aliens... this one just made so little sense on so many levels.Also the mother not expressing saying, \"hey this tank is almost out of air, don't put your sibling in the box just in case I can't find any air or don't come back\" or something along those lines feels like an obvious miss.Then the daughter, deaf deciding to go out on her own and investigate the radio signal. Despite the obviousness that she is single handedly the worst person for this (as she cannot hear any noise she may be making) at least it was set-up in the previous movie that \"stubborn\" and \"believes she can do anything\" is right in her wheel house... so at least that tracked.Other non-logical things like \"rouge bandits\" setting up elaborate traps, made very little sense in this type of post-apocalyptic atmosphere. Every person you rob is essentially a time-bomb that can kill everyone by making a bunch of noise (as what obviously was foreshadowed and happened) is it worth robb...</td>\n",
              "      <td>A Quiet Place Part II(2020)</td>\n",
              "      <td>[thing, a pain point, horror/suspense movies, a either a character, something, drama, AQP1 refreshing, it, a series, bad events, it, the creepy tone, it, AQP2, these type, things, it, what, the movie, The most glaring example, the actions, the children, the son's actions, the daughters, The son, his leg, a bear trap, so much pain, he, it, his death, their living situation, the warehouse, his mom, supplies, him, charge, the baby, This action, I, a child, it, His leg/ankle, a bear trap, he, his little brother, top, both movies, he, he, the idea, these creatures, it, necessity, he, physical pain, his defined personality, common sense, task, the baby, his surrounds, no reason, cue, he, a dead person, a curtain, a lot, noise, the aliens, this one, so little sense, so many levels, the mother, this tank, air, your sibling, the box, case, I, any air, something, those lines, an obvious miss, the daughter, the radio signal, the obviousness, she, the worst person, she, any noise, she, it, the previous movie, she, anything, her wheel house, Other non-logical things, \"rouge bandits, elaborate traps, very little sense, ...]</td>\n",
              "    </tr>\n",
              "    <tr>\n",
              "      <th>0</th>\n",
              "      <td>https://www.imdb.com/title/tt8332922/reviews/?ref_=tt_ql_urv</td>\n",
              "      <td>0</td>\n",
              "      <td>7</td>\n",
              "      <td>A Quiet Place was a massive surprise hit with brilliant concepts and creativity unseen or unheard in any film before. Some might think it was lightning in a bottle that can't be expanded on. Well this sequel might be even better than the first somehow. They upped the ante across the board with insane intensity, larger set pieces, and just overall absolute action/thrills.The formula is similar but adds a few more characters to give it some more depth. Cillian Murphy's addition to the story is monumental and he once again shows he's one of the most underrated actors around. Almost harkens back to his post apocalyptic days in 28 Days later. The returning characters are just as great and Emily Blunt gets to shine once again. Krasinski proves once again his prowess in directing and writing is immaculate which is surprising seeing how he's really just getting started in that realm of his career.The array of new settings add a ton to the overall film's atmosphere and they utilize some clever spots to accelerate the action and fear. Once again my favorite aspects are the alien creatures and their vicious designs. They're just as frightening and potentially even more bloodthirsty this time around. The cgi used to portray them is marvelously realistic. The use of sonic tension and innovative ideas with various sounds continues to be something that's so satisfying from this franchise.I will honestly say that this is one of the best sequels to come out recently and maybe of all time. The relentless pace is heightened and the thrills are unstoppable. See this in a theater because it's literally what theaters are made for. Massive blockbuster fun.</td>\n",
              "      <td>A Quiet Place Part II(2020)</td>\n",
              "      <td>[A Quiet Place, a massive surprise, brilliant concepts, any film, it, a bottle, this sequel, They, the ante, the board, insane intensity, larger set pieces, just overall absolute action/thrills, The formula, a few more characters, it, some more depth, Cillian Murphy's addition, the story, he, he, the most underrated actors, his post apocalyptic days, The returning characters, Emily Blunt, Krasinski, his prowess, writing, he, that realm, his career, The array, new settings, a ton, the overall film's atmosphere, they, some clever spots, the action, fear, my favorite aspects, the alien creatures, their vicious designs, They, The cgi, them, The use, sonic tension, innovative ideas, various sounds, something, this franchise, I, the best sequels, all time, The relentless pace, the thrills, a theater, it, what, theaters, Massive blockbuster fun]</td>\n",
              "    </tr>\n",
              "    <tr>\n",
              "      <th>0</th>\n",
              "      <td>https://www.imdb.com/title/tt8332922/reviews/?ref_=tt_ql_urv</td>\n",
              "      <td>0</td>\n",
              "      <td>8</td>\n",
              "      <td>Rather than grow the story, they just went in a straight line and rehashed the same story on a slightly bigger scale. The film makers ignore the fact that the aliens are intelligent and organized enough for interstellar travel, but appear to have no organization, no agenda, and very little intelligence now that they have reached earth. They just seem to be wandering killing machines. I'm not even sure if they feed on people. I didn't see that in this film and I can't remember if they did in the first. So do they just walk around and listen for things to kill? What are they going to do once everyone is dead? Also, they can't swim, but chose to land on a planet that is 75% water? Maybe they should have prepared better.Makes me think they are soldiers for a superior race of beings that we have not seen yet. Maybe in the next film. I'm not holding my breath.</td>\n",
              "      <td>A Quiet Place Part II(2020)</td>\n",
              "      <td>[the story, they, a straight line, the same story, a slightly bigger scale, The film makers, the fact, the aliens, interstellar travel, no organization, no agenda, very little intelligence, they, earth, They, killing machines, I, they, people, I, this film, I, they, they, things, What, they, everyone, they, a planet, 75% water, they, me, they, soldiers, a superior race, beings, we, the next film, I, my breath]</td>\n",
              "    </tr>\n",
              "    <tr>\n",
              "      <th>0</th>\n",
              "      <td>https://www.imdb.com/title/tt8332922/reviews/?ref_=tt_ql_urv</td>\n",
              "      <td>0</td>\n",
              "      <td>9</td>\n",
              "      <td>IN A NUTSHELL:\\nWow. This is the very first movie I've seen in an actual theater for over a year! A Quiet Place II was one of the first movies to delay its theater release when the pandemic first started. This morning, I was invited to a press screening in a local theater with just 9 other film critics. The movie picks up right where A Quiet Place left off. Following the horrific events at home, the Abbott family now faces the terrors of the outside world. Forced to venture into the unknown, they realize the creatures that hunt by sound are not the only threats lurking beyond the sand path...This dramatic thriller was written and directed by John Krasinski. He wrote the first film with Scott Beck and Bryan Woods, but this one is very much all Krasinski. I loved his \"Some Good News\" YouTube videos John Krasinski shared when the pandemic first started. He really does seem like such a nice guy and it's a delightful reveal that he absolutely knows how to write and direct awesome movies. This is a rare sequel that is as good as A Quiet Place. Another film critic I watched the movie with this morning described his review in these few words, \"A great sequel to a movie that didn't need a sequel.\" Everyone is saying this film was definitely worth the wait. This is just the movie that might get people going back to the theaters again.THINGS I LIKED:\\nWho doesn't love John Krasinski and Emily Blunt together? They both look fantastic in this movie. Despite John Krasinski's character's demise in the first movie, we get to see him again in a few scenes that feature Day 1 of the alien invasion. He and Emily admitted they had not considered doing a sequel. John explains that he was \"Jedi-mind tricked into doing it.\"\\nThe talented cast also includes Djimon Hounsou and Cillian Murphy.Millicent Simmonds, who plays Regan Abbott, is actually deaf in real life. This is her third film, after the original movie and Wonderstruck. She is a very good young actress. Noah Jupe plays her brother and together, they provide the hope the adults so desperately need in the story.There is so much suspense and tension, with plenty of action that will keep you on the edge of your seat. The movie has all of the jumps and scares you hope it would.The opening sequence was riveting. One of the things I said in my review of the original movie was that I wished we could have seen what happened on Day 1. Well, here you go!The aliens are intriguing but the characters are truly the center and heart...</td>\n",
              "      <td>A Quiet Place Part II(2020)</td>\n",
              "      <td>[A NUTSHELL, the very first movie, I, an actual theater, over a year, A Quiet Place II, the first movies, its theater release, I, a press screening, a local theater, just 9 other film critics, The movie, A Quiet Place, the horrific events, home, the Abbott family, the terrors, the outside world, they, the creatures, sound, the only threats, the sand path, This dramatic thriller, John Krasinski, He, the first film, Scott Beck, Bryan Woods, this one, all Krasinski, I, his \"Some Good News, YouTube videos John Krasinski, He, such a nice guy, it, a delightful reveal, he, a rare sequel, A Quiet Place, Another film critic, I, the movie, this morning, his review, these few words, A great sequel, a movie, a sequel, Everyone, this film, just the movie, people, the theaters, I, Who, John Krasinski, Emily Blunt, They, this movie, John Krasinski's character's demise, the first movie, we, him, a few scenes, Day, the alien invasion, He, Emily, they, a sequel, John, he, \"Jedi-mind, it, The talented cast, Djimon Hounsou, Cillian Murphy, Millicent Simmonds, who, Regan Abbott, real life, her third film, the original movie, Wonderstruck, She, a very good young actress, Noah Jupe, her brother, they, the hope, the adults, the story, so much suspense, tension, plenty, action, you, ...]</td>\n",
              "    </tr>\n",
              "  </tbody>\n",
              "</table>\n",
              "</div>"
            ],
            "text/plain": [
              "                                                      MovieLink  ...                                                                                                                                                                                                                                                                                                                                                                                                                                                                                                                                                                                                                                                                                                                                                                                                                                                                                                                                                                                                                                                                                                                                                                                                                                                                                                                          noun_chunks\n",
              "0  https://www.imdb.com/title/tt8332922/reviews/?ref_=tt_ql_urv  ...                                                                                                                                                                                                                                                                                                                                                                                                                                                                                                                                                                                                                                                                                                                                                                                                                                                                                                                                                       [you, the first one, you, this one, Most sequels, flop, the powers, the audience, the same thing, the original, More bad guys, more explosions, everything, story, depth, character development, A Quiet Place II, that trap, It, it, the point, fact, we, the first film, it, the original, I, it, the first instalment, places, it, any fault, it, the runtime, We, who, 's]\n",
              "0  https://www.imdb.com/title/tt8332922/reviews/?ref_=tt_ql_urv  ...                                                                                                                                                                                                                                                                                                                                                                                                                                                                                                                                                                                                                                                                                                                                                                                                                                                                                                                                                                                                                                                                                                                                            [It, we, movie movies, their predecessor, us, more!Perfect amount, drama, suspenseful moments, action, John Kransinki, such a fantastic \"monster world, I, anyone, these films, HIS baby]\n",
              "0  https://www.imdb.com/title/tt8332922/reviews/?ref_=tt_ql_urv  ...                                                                                                                                                                                                                                                                                                                                                                                       [Best cinema experience, I, a while, full house, a near silent crowd, some loud eaters, the lack, plot, the ending, I, this film, a continuation, the story, it, You, it, the ending, the first one, the setting, time, I, some people, Millicent Simmonds, this film, Cillian Murphy, it, Emily Blunt, 's, Millicent, the spotlight, she, it, I, the sequel, the first film, the scenes, some jump scares, them, the lack, scares, this film, big action pieces, the big screen, I, preferred more silent scenes, sound, a jump scare element, big explosions, loud sounds, the action, the sound design, we, sound, Favourite scene, the opening, big action scenes, a good origin, the world, it, The only thing, me, the theme, family, It, every man, himself, we, a few moments, the theme, family, you, Regan, Marcus, their father, the film, the family, safety, this film, horror, your taste, you, the sound and production design]\n",
              "0  https://www.imdb.com/title/tt8332922/reviews/?ref_=tt_ql_urv  ...                                                                                                                                                                                                                                                                                                                                                                                                                                                                                                                                                                                                                                                                                                                                                                                                                                                                                                                                                                                                                                 [I, an advanced screening, I, any reviews, I, the best way, it, reviews, it, anything, I, part, it, It, start, finish, the pacing, great acting, Krasinski, writer, director, it, I, more movies, this calibre, I, anything, any reviews, this thrilling movie, the cinema, the big screen, it, you]\n",
              "0  https://www.imdb.com/title/tt8332922/reviews/?ref_=tt_ql_urv  ...                                                                                                                                                                                                                                                                                                                              [I, the opening scene, sequence, a film, a horror movie, the title card 'Day, the beginning, A Quiet Place, you, you, a treat, it, a truly great sequence, I, a huge proponent, jump-scares, this movie, me, I, This sequence, the tone, the film, everything, a lot, I, this film, a bit, I, I, the negatives, the way, I, a positive note, The film, John Krasinski, an acting role, the little bit, time, we, him, we, he, Cillian Murphy, it, The film, it, The story, we, any new information, The film, a bridge, what, I, the third entry, the series, a little bit, a hopeless feeling, everything, We, what, the endgame, it, The positives, Krasinski, the original, no fluke, he, a gifted director, The film, The characters, the children, kid actors, it, these films, the film, it, the pacing, The film, the credits, a lot, people, guard, I, I'm, this one, I, it, It, things, a lot more action, the monsters, it, Krasinski, an acting role, the innovation, It, I, the next entry]\n",
              "0  https://www.imdb.com/title/tt8332922/reviews/?ref_=tt_ql_urv  ...                                                                                                                                                                                                                                                                                                                                                                                                                                                                                                                                                                                                                                                                                                                                                                                                                                                                                                                                                                                                                                                                                                                                                           [the first thing, I, the movie, I, the movie, we, more closure, the first movie, it, a good ending, we, the monsters, this one, we, them, it, a deal, I, it, more closure]\n",
              "0  https://www.imdb.com/title/tt8332922/reviews/?ref_=tt_ql_urv  ...                                                                                                                                                              [thing, a pain point, horror/suspense movies, a either a character, something, drama, AQP1 refreshing, it, a series, bad events, it, the creepy tone, it, AQP2, these type, things, it, what, the movie, The most glaring example, the actions, the children, the son's actions, the daughters, The son, his leg, a bear trap, so much pain, he, it, his death, their living situation, the warehouse, his mom, supplies, him, charge, the baby, This action, I, a child, it, His leg/ankle, a bear trap, he, his little brother, top, both movies, he, he, the idea, these creatures, it, necessity, he, physical pain, his defined personality, common sense, task, the baby, his surrounds, no reason, cue, he, a dead person, a curtain, a lot, noise, the aliens, this one, so little sense, so many levels, the mother, this tank, air, your sibling, the box, case, I, any air, something, those lines, an obvious miss, the daughter, the radio signal, the obviousness, she, the worst person, she, any noise, she, it, the previous movie, she, anything, her wheel house, Other non-logical things, \"rouge bandits, elaborate traps, very little sense, ...]\n",
              "0  https://www.imdb.com/title/tt8332922/reviews/?ref_=tt_ql_urv  ...                                                                                                                                                                                                                                                                                                                                                                                                                                                   [A Quiet Place, a massive surprise, brilliant concepts, any film, it, a bottle, this sequel, They, the ante, the board, insane intensity, larger set pieces, just overall absolute action/thrills, The formula, a few more characters, it, some more depth, Cillian Murphy's addition, the story, he, he, the most underrated actors, his post apocalyptic days, The returning characters, Emily Blunt, Krasinski, his prowess, writing, he, that realm, his career, The array, new settings, a ton, the overall film's atmosphere, they, some clever spots, the action, fear, my favorite aspects, the alien creatures, their vicious designs, They, The cgi, them, The use, sonic tension, innovative ideas, various sounds, something, this franchise, I, the best sequels, all time, The relentless pace, the thrills, a theater, it, what, theaters, Massive blockbuster fun]\n",
              "0  https://www.imdb.com/title/tt8332922/reviews/?ref_=tt_ql_urv  ...                                                                                                                                                                                                                                                                                                                                                                                                                                                                                                                                                                                                                                                                                                                                                                                                                                                                                                        [the story, they, a straight line, the same story, a slightly bigger scale, The film makers, the fact, the aliens, interstellar travel, no organization, no agenda, very little intelligence, they, earth, They, killing machines, I, they, people, I, this film, I, they, they, things, What, they, everyone, they, a planet, 75% water, they, me, they, soldiers, a superior race, beings, we, the next film, I, my breath]\n",
              "0  https://www.imdb.com/title/tt8332922/reviews/?ref_=tt_ql_urv  ...  [A NUTSHELL, the very first movie, I, an actual theater, over a year, A Quiet Place II, the first movies, its theater release, I, a press screening, a local theater, just 9 other film critics, The movie, A Quiet Place, the horrific events, home, the Abbott family, the terrors, the outside world, they, the creatures, sound, the only threats, the sand path, This dramatic thriller, John Krasinski, He, the first film, Scott Beck, Bryan Woods, this one, all Krasinski, I, his \"Some Good News, YouTube videos John Krasinski, He, such a nice guy, it, a delightful reveal, he, a rare sequel, A Quiet Place, Another film critic, I, the movie, this morning, his review, these few words, A great sequel, a movie, a sequel, Everyone, this film, just the movie, people, the theaters, I, Who, John Krasinski, Emily Blunt, They, this movie, John Krasinski's character's demise, the first movie, we, him, a few scenes, Day, the alien invasion, He, Emily, they, a sequel, John, he, \"Jedi-mind, it, The talented cast, Djimon Hounsou, Cillian Murphy, Millicent Simmonds, who, Regan Abbott, real life, her third film, the original movie, Wonderstruck, She, a very good young actress, Noah Jupe, her brother, they, the hope, the adults, the story, so much suspense, tension, plenty, action, you, ...]\n",
              "\n",
              "[10 rows x 6 columns]"
            ]
          },
          "metadata": {
            "tags": []
          },
          "execution_count": 44
        }
      ]
    },
    {
      "cell_type": "code",
      "metadata": {
        "colab": {
          "base_uri": "https://localhost:8080/",
          "height": 1000
        },
        "id": "OH8VPEBgxuR9",
        "outputId": "71d49fb4-75eb-4cc0-f005-2d774b77deea"
      },
      "source": [
        "review_final = reviews.drop_duplicates(subset=['Title'])\n",
        "review_final"
      ],
      "execution_count": 45,
      "outputs": [
        {
          "output_type": "execute_result",
          "data": {
            "text/html": [
              "<div>\n",
              "<style scoped>\n",
              "    .dataframe tbody tr th:only-of-type {\n",
              "        vertical-align: middle;\n",
              "    }\n",
              "\n",
              "    .dataframe tbody tr th {\n",
              "        vertical-align: top;\n",
              "    }\n",
              "\n",
              "    .dataframe thead th {\n",
              "        text-align: right;\n",
              "    }\n",
              "</style>\n",
              "<table border=\"1\" class=\"dataframe\">\n",
              "  <thead>\n",
              "    <tr style=\"text-align: right;\">\n",
              "      <th></th>\n",
              "      <th>MovieLink</th>\n",
              "      <th>MovieNumber</th>\n",
              "      <th>ReviewNumber</th>\n",
              "      <th>Review</th>\n",
              "      <th>Title</th>\n",
              "      <th>noun_chunks</th>\n",
              "    </tr>\n",
              "  </thead>\n",
              "  <tbody>\n",
              "    <tr>\n",
              "      <th>0</th>\n",
              "      <td>https://www.imdb.com/title/tt8332922/reviews/?ref_=tt_ql_urv</td>\n",
              "      <td>0</td>\n",
              "      <td>0</td>\n",
              "      <td>.......and if you enjoyed the first one then you'll certainly enjoy this one too.Most sequels that flop tend to do so because the powers that be think the audience simply want exponentially more of the same thing that was in the original. More bad guys, more explosions, much, much more of everything. Except story and depth and character development.A Quiet Place II, thankfully, doesn't fall into that trap. It starts almost exactly where it left off. Right at the point in fact, where we were left wanting to see more in the first film. Then it simply and effectively expands on the original.Overall I rate it as good as the first instalment, if not marginally better in places. If it has any fault at all, it's in the runtime which, IMHO, is a tad short. We definitely wanted to see more though and who knows, maybe there'll be a third one? Let's hope so.</td>\n",
              "      <td>A Quiet Place Part II(2020)</td>\n",
              "      <td>[you, the first one, you, this one, Most sequels, flop, the powers, the audience, the same thing, the original, More bad guys, more explosions, everything, story, depth, character development, A Quiet Place II, that trap, It, it, the point, fact, we, the first film, it, the original, I, it, the first instalment, places, it, any fault, it, the runtime, We, who, 's]</td>\n",
              "    </tr>\n",
              "    <tr>\n",
              "      <th>0</th>\n",
              "      <td>https://www.imdb.com/title/tt6654210/reviews/?ref_=tt_ql_urv</td>\n",
              "      <td>2</td>\n",
              "      <td>0</td>\n",
              "      <td>The main motive of the villian is, he is tired of reincarnated and by destroying all the lives in earth will stop it. But, he also got a bullet that will stuck the memory of the people in a chip so that he/she will not be reborn again. My question is why don't he put the bullet in his head and solve this problem in an easy way?</td>\n",
              "      <td>Infinite(2021)</td>\n",
              "      <td>[The main motive, the villian, he, all the lives, earth, it, he, a bullet, the memory, the people, a chip, she, My question, he, the bullet, his head, this problem, an easy way]</td>\n",
              "    </tr>\n",
              "    <tr>\n",
              "      <th>0</th>\n",
              "      <td>https://www.imdb.com/title/tt0993840/reviews/?ref_=tt_ql_urv</td>\n",
              "      <td>4</td>\n",
              "      <td>0</td>\n",
              "      <td>I miss these lists, they were fun!This movie was somewhat entertaining but also (and mostly) annoying:Spoilers, and in random order, enjoy:1: A leader zombie on top of a tall building, can look at a helicopter flying away, then give it 1 mile head start, go down to ground level, and still out run the helicopter on his dead horse.2: The more people talk about a nuke coming, and time running out, the more relaxed they will feel and the slower they will move.3: If a nuke is on the way and a helicopter comes to rescue you, you must still wait for the pilot to deliver a speech and give you permission to get on board, before moving at all.4: A piece of make shift metal for a helmet will act as a magnet for all bullets aimed at that person, and will never even have a mark on it, after 10+ hits.5: A woman who says she has a plan, while holding a zombie head, will keep staring at the helicopter taking off, probably because she remembered she didn't really have a plan.6: The Military generally needs their orders given 2-3 times before reacting, and they will then react very slowly and with seemingly no training.7: Having dark skin protects you from massive nuclear radiation in the same way it protects you better from the UV rays from the sun, compared to a very pale person.8: A young woman with no military training will have trouble shooting a zombie in the head at point blank range but can hit 8 running zombies in the head with 8 bullets, from a distance.9: A movie can last 2½ hours and still have very little character development.10: People will call a young man \"a kid\" and make fun of him, because he's the nerdy safe cracker, in spite him having huge biceps and broad shoulders, like we know all nerds generally have in real life.11: Noone will question why a billionaire wants a team to retrieve pocket cash for him.12: A random woman is important to save, except if she gets on a helicopter, then we don't even have to see if she survives or not.13: If a billionaire wants a live zombie head for himself, he won't just send a few hunters with a net to retrieve the first zombie they encounter, he will send an entire oblivious team with a mole in it, with a bank heist cover, and hope his mole can come through, because that's more fun, and the first option is too simple.14: If 2 people on an elevator sees Zombies when the doors open, they will freeze up completely, because who expects to run into zombies in a city crawling with zombies?15: Custom made hand grenades be...</td>\n",
              "      <td>Army of the Dead(2021)</td>\n",
              "      <td>[I, these lists, they, movie, random order, A leader zombie, top, a tall building, a helicopter, it, ground level, the helicopter, his dead horse.2, The more people, a nuke, they, they, a nuke, the way, a helicopter, you, you, the pilot, a speech, you, permission, board, all.4, A piece, shift metal, a helmet, a magnet, all bullets, that person, a mark, it, 10+ hits.5: A woman, who, she, a plan, a zombie head, the helicopter, she, she, a plan.6, The Military, their orders, 2-3 times, they, seemingly no training.7, dark skin, you, massive nuclear radiation, the same way, it, you, the UV rays, the sun, a very pale person.8, A young woman, no military training, trouble, a zombie, the head, point blank range, 8 running zombies, the head, 8 bullets, a distance.9, A movie, very little character development.10, People, a young man, \"a kid, fun, him, he, the nerdy safe cracker, him, huge biceps, broad shoulders, we, all nerds, real life.11, Noone, a billionaire, a team, pocket cash, him.12, A random woman, she, a helicopter, we, she, a billionaire, a live zombie head, himself, he, a few hunters, a net, ...]</td>\n",
              "    </tr>\n",
              "    <tr>\n",
              "      <th>0</th>\n",
              "      <td>https://www.imdb.com/title/tt10418662/reviews/?ref_=tt_ql_urv</td>\n",
              "      <td>6</td>\n",
              "      <td>0</td>\n",
              "      <td>The premise sounded very good, I had high hopes going in, but the plot becomes really silly, really quickly, with time never really being shown in any kind of consistent manner. Somehow this film manages to be stupidly fast paced and ridiculously slow at the same time, a feat I've never seen in a film before. It could have been explained so simply with a small subtitle day 1, day 2 etc and it would have made more sense.People became bloodthirsty within hours, which made no sense at all. There are a lot of questions which are never answered:\\nThe scene with the prisoners, explained as \"the guards came back and opened the doors\" why? It agains makes no sense, a simply and more plausible answer would have been \"the doors were electronically opened when the event happened. Done.Why did the one prisoner save them? Never explained. How did he suddenly reappear at the hub with the family having no idea where the family were? Never explained.Why was dodge seemingly able to function better than most? How did he die? Never answered.Now onto the massive plot hole...\\nI figured out the reason pretty much straight away, it was so obvious and yet no one in the film asked the basic question, what happened to the girl that hadn't happened to the others? A team of scientists never even asked. She died and was revived, simple.When the girl finally figures it out, why did they take the mom to the lake to drown her? Why not just put a pillow over her head right there and use the defibrillator? I'm guessing the director wanted to use water as a kind of \"baptism\" but why go down a religious route at the end after showing the religious people in the film to be nutters?Poorly written, poorly edited and poorly directed which is a real shame as the acting itself wasn't too bad.</td>\n",
              "      <td>Awake(III) (2021)</td>\n",
              "      <td>[The premise, I, high hopes, the plot, time, any kind, consistent manner, this film, the same time, I, a film, It, a small subtitle day, day, it, more sense, People, hours, no sense, a lot, questions, The scene, the prisoners, the guards, the doors, It, no sense, a simply and more plausible answer, the doors, the event, the one prisoner, them, he, the hub, the family, no idea, the family, Why was dodge, he, the massive plot hole, I, the reason, it, no one, the film, the basic question, what, the girl, the others, A team, scientists, She, the girl, it, they, the mom, the lake, her, a pillow, her head, the defibrillator, I, the director, water, a kind, baptism, a religious route, the end, the religious people, the film, a real shame, the acting, itself]</td>\n",
              "    </tr>\n",
              "    <tr>\n",
              "      <th>0</th>\n",
              "      <td>https://www.imdb.com/title/tt6644200/reviews/?ref_=tt_ql_urv</td>\n",
              "      <td>10</td>\n",
              "      <td>0</td>\n",
              "      <td>Anyone who lives in the world and follows movies has a pretty good idea of the main concept behind a quiet place: there are beings that will kill you if you make a noise.\\nThe film does very little to try to explain where these beings come from, all we know is how long they've been there for and that they have change the face of the planet in a pretty radical way.We follow the Abbot family, who lives in a remote country house with an elaborate system to keep each other safe, but the main thing is that they have become very skilled at being very quiet.The incredible result of that premise is that the film has very little dialogue and instead, makes great use of visuals and sound. And there are truly stunning set pieces in this film, and without spoiling anything, Emily Blunt gives a stellar performance, as usual. Frustratingly, because the film chooses to concentrate on the action and the premise, it failed to give real substance to its characters and their relationships. A very artificial conflict is created between the dad and his daughter, and it truly feels like it was added into a later version of the script to give some sort of emotional arc to the characters, but the result is clumsy at best, a bit ridiculous at worst.Additionally, the film fails to create very clear rules on what the creatures can and cannot hear, how they function, how they are able to detect obstacles in their path, how many there are, or how fast they move, are all animals dead, and the list probably goes on. The result is that whatever is established at one point inevitably changes later on to fit the dramatic needs of the story, but it undermines our ability to suspend disbelief. Repeatedly, it feels like the film is doing its best to thrill, even if that means going against the film's internal logic. On a similar note, around the middle of the film John Krasinski takes his son hunting. At some point, they stop by a waterfall, next to which Krasinski starts yelling, casually explaining to his son that as long as there is a louder sound next to them, they are absolutely safe. I was thinking the same thing during the first half of the film, namely - if these creatures follow sounds, then, wouldn't it be simple to constantly distract them with sounds everywhere? We certainly have the technology to do that. Also, shouldn't there be sound proof shelters? Couldn't all humanity focus on sound proofing all of their homes??But even if we accept for one second that these solutions ar...</td>\n",
              "      <td>A Quiet Place(2018)</td>\n",
              "      <td>[Anyone, who, the world, movies, a pretty good idea, the main concept, a quiet place, beings, you, you, a noise, The film, these beings, we, they, they, the face, the planet, a pretty radical way, We, the Abbot family, who, a remote country house, an elaborate system, the main thing, they, The incredible result, that premise, the film, very little dialogue, great use, visuals, sound, truly stunning set pieces, this film, anything, Emily Blunt, a stellar performance, the film, the action, the premise, it, real substance, its characters, their relationships, A very artificial conflict, the dad, his daughter, it, it, a later version, the script, some sort, emotional arc, the characters, the result, the film, very clear rules, what, the creatures, they, they, obstacles, their path, they, animals, the list, The result, one point, the dramatic needs, the story, it, our ability, disbelief, it, the film, the film's internal logic, a similar note, the middle, the film, John Krasinski, his son, some point, they, a waterfall, Krasinski, yelling, his son, a louder sound, them, they, I, the same thing, the first half, the film, these creatures, sounds, it, them, sounds, ...]</td>\n",
              "    </tr>\n",
              "    <tr>\n",
              "      <th>...</th>\n",
              "      <td>...</td>\n",
              "      <td>...</td>\n",
              "      <td>...</td>\n",
              "      <td>...</td>\n",
              "      <td>...</td>\n",
              "      <td>...</td>\n",
              "    </tr>\n",
              "    <tr>\n",
              "      <th>0</th>\n",
              "      <td>https://www.imdb.com/title/tt0088247/reviews/?ref_=tt_ql_urv</td>\n",
              "      <td>190</td>\n",
              "      <td>0</td>\n",
              "      <td>The Terminator (1984) is a masterpiece, the best sci-fi action classics horror movie that started all the Terminator movies. This is Schwarzenegger's best movie and my personal favorite action film. I love this film to death it is my childhood film I grew up with it. Arnold Schwarzenegger was The Terminator T-800 Model 101 indestructible killing machine cyborg. This movie is brilliant, it has brilliant story, brilliant plot, excellent additional cast, brilliant director and writers, good special effects, it is mixed with sci-fi, action and horror. This movie deals with the war that was set in the future but the battle will be fought in the present. It deals with paradox travel trough time.\"It can't be bargained with. It can't be reasoned with. It doesn't feel pity, or remorse, or fear. And it absolutely will not stop... ever, until you are dead! \"This is the perfect action film of all time and still even today over 30 years it is a cult classic. The plot and the script provides excellent dialogues. Why it is brilliant? Imagine someone did something in the future and didn't know about it and becomes a primal target for extermination from a killer cyborg from the future now in the present. That is brilliant and excellent idea and story.Two naked men appear in different locations in los Angeles trough flash blue light and electricity they were both set in time from the year 2029 to the present year 1984. One is a human the other is an indestructible cyborg reprogramed to find and kill Sarah Connor (Linda Hamilton) the woman whose unborn son will become humanity's only hope in the future war against the machines. The other men is a human being a soldier from the future who has to find Sarah Connor and protect her at all cost. That's the basically plot for this film.James Cameron writes and directs this film with his than wife Gale Anne Hurd who also produced this film and they both does that brilliantly. The script with the story provides a perfect action entertainment trough whole film.Brad Fiedel does a wonderful music theme for The Terminator character and action sequences, car chases and does a drama in which Sarah and Kyle have sex together in the motel room. That's how John was later in the sequel born. Great music score for the film. I love the soundtracks from this film: Photoplay \\n and Burnin' in the Third Degree by Tryanglz.Arnold Schwarzenegger was at the top of his career. This movie bring his career at top of the action stars. Arnold is excel...</td>\n",
              "      <td>The Terminator(1984)</td>\n",
              "      <td>[The Terminator, a masterpiece, the best sci-fi action classics horror movie, all the Terminator movies, Schwarzenegger's best movie, my personal favorite action film, I, this film, death, it, my childhood film, I, it, Arnold Schwarzenegger, The Terminator, T-800 Model 101 indestructible killing machine cyborg, This movie, it, brilliant story, brilliant plot, excellent additional cast, brilliant director, writers, good special effects, it, sci-fi, action, horror, the war, the future, the battle, the present, It, paradox travel trough time, It, It, pity, remorse, fear, it, you, the perfect action film, all time, it, a cult classic, The plot, the script, excellent dialogues, it, someone, something, the future, it, a primal target, extermination, a killer cyborg, the future, the present, brilliant and excellent idea, story, Two naked men, different locations, los Angeles trough flash blue light, electricity, they, time, the year, the present year, a human, an indestructible cyborg, Sarah Connor, Linda Hamilton, the woman, whose unborn son, humanity's only hope, the future war, the machines, The other men, a soldier, the future, who, Sarah Connor, her, all cost, the basically plot, this film, James Cameron, this film, his, wife Gale Anne Hurd, who, this film, they, The script, the story, a perfect action entertainment trough whole film, Brad Fiedel, a wonderful music theme, The Terminator character, action sequences, ...]</td>\n",
              "    </tr>\n",
              "    <tr>\n",
              "      <th>0</th>\n",
              "      <td>https://www.imdb.com/title/tt3498820/reviews/?ref_=tt_ql_urv</td>\n",
              "      <td>192</td>\n",
              "      <td>0</td>\n",
              "      <td>Captain America Civil War is a gripping, bold, smart and awesome superhero movie. It boasts of a talented cast, a great direction and awesome action sequences. Matching spectacular and epic moments with the smarts of a great, grown up thriller, Captain America Civil War is a fun, epic and emotional ride that you won't miss.Rating: 8,9.</td>\n",
              "      <td>Captain America: Civil War(2016)</td>\n",
              "      <td>[Captain America Civil War, a gripping, bold, smart and awesome superhero movie, It, a talented cast, a great direction, awesome action sequences, spectacular and epic moments, the smarts, thriller, Captain America Civil War, a fun, epic and emotional ride, you, Rating]</td>\n",
              "    </tr>\n",
              "    <tr>\n",
              "      <th>0</th>\n",
              "      <td>https://www.imdb.com/title/tt8695030/reviews/?ref_=tt_ql_urv</td>\n",
              "      <td>194</td>\n",
              "      <td>0</td>\n",
              "      <td>I saw the trailer and all the great actors, so I was naturally excited. Then I saw the whole thing and was extremely disappointed. Such wasted talent. The acting of course was phenomenal but the writing was just dead.</td>\n",
              "      <td>The Dead Don't Die(2019)</td>\n",
              "      <td>[I, the trailer, all the great actors, I, I, the whole thing, Such wasted talent, The acting, course, the writing]</td>\n",
              "    </tr>\n",
              "    <tr>\n",
              "      <th>0</th>\n",
              "      <td>https://www.imdb.com/title/tt0066921/reviews/?ref_=tt_ql_urv</td>\n",
              "      <td>196</td>\n",
              "      <td>0</td>\n",
              "      <td>Completely brilliant. This film is amazing in its characterization, its pacing, its character development and its visuals.\\nThe book is superb, but Stanley is a genius who has a midas touch.Glory glory violence.</td>\n",
              "      <td>A Clockwork Orange(1971)</td>\n",
              "      <td>[This film, its characterization, The book, Stanley, a genius, who, a midas touch, Glory glory violence]</td>\n",
              "    </tr>\n",
              "    <tr>\n",
              "      <th>0</th>\n",
              "      <td>https://www.imdb.com/title/tt2737304/reviews/?ref_=tt_ql_urv</td>\n",
              "      <td>198</td>\n",
              "      <td>0</td>\n",
              "      <td>I have to say, the most sensible reviews are those that doesn't say \"10/10\". It wasn't easy to rate it, I had to think long and hard about this one before I could give it a seemingly justified mark.Sadly, \"Bird Box\" is nothing revolutionary in neither the horror genre &amp; the apocalyptical movie isle. It has a great cast, a truly great performance by Sandra Bullock, real good looking, big-budget-all-over cinematography, visual FX, shooting locations, action, makeup, etc., etc. Many aspects of a masterful filmmaking are on a high enough level - my only complaint on this matter is that there wasn't enough horror in this horror movie. A few moments of gore, mayhem and suspense fits the genre, but overall I'd describe \"Bird Box\" as an r-rated apocalyptical adventure movie that could easily have a lot of teenagers in it's audience. I'm seeing a lot comparisons with the recent \"A Quiet Place\" among the reviews, yet I'd like to try and avoid comparing these two, but, to all those who compare them, I say - \"A Quiet Place\" was a better horror movie (emphasis on \"horror\").So why only 6/10, you wonder? Let me tell you why: the plot. It is so lousy in so many ways. Note that I have not read the book, but if the story there is as unpolished as here, I will definitely never read it. \"Bird Box\" leaves the viewer with a lot of questions and plot points that doesn't make much sense. What are the entities? There are no origins, no explanation for how and why it struck the earth, it's shown as extremely powerful yet, for whatever reason, it can't enter any buildings etc. From the start of the movie to the end there is no development whatsoever regarding the reasons for the apocalypse and the process of it. Why are some people not killing themselves when exposed to the entities but are killing others? Well, I guess because they needed someone to kill the protagonists, when the entities couldn't.. There is never an explanation, not even a subtle hint. The entities can make you hear voices of close people, dead people, yet, 5 years into the apocalypse, it still comes as a surprise to the main charachters, what a climax, eh? In the end, after the long journey, our main character finds the place she was looking for - a school for the blind. In the middle of a rainforest. Very plausible indeed. Also, who calls their children girl and boy for 5 years, only to deliver the scene at the end where she names them after the two now dead charachters. I guess they had to wait until the f...</td>\n",
              "      <td>Bird Box(2018)</td>\n",
              "      <td>[I, the most sensible reviews, It, it, I, this one, I, it, a seemingly justified mark, Bird Box, nothing, neither the horror genre, the apocalyptical movie isle, It, a great cast, a truly great performance, Sandra Bullock, big-budget-all-over cinematography, visual FX, shooting, locations, action, makeup, Many aspects, a masterful filmmaking, a high enough level, my only complaint, this matter, enough horror, this horror movie, A few moments, gore, mayhem, suspense, the genre, I, \"Bird Box, an r-rated apocalyptical adventure movie, a lot, teenagers, it's audience, I, a lot comparisons, the recent \"A Quiet Place, the reviews, I, who, them, I, \"A Quiet Place, a better horror movie, emphasis, horror\").So, you, me, you, the plot, It, so many ways, I, the book, the story, I, it, Bird Box, the viewer, a lot, questions, plot points, much sense, What, the entities, no origins, no explanation, it, the earth, it, whatever reason, it, any buildings, the start, the movie, the end, no development, the reasons, the apocalypse, the process, it, some people, themselves, the entities, others, I, they, someone, the protagonists, the entities, an explanation, not even a subtle hint, The entities, ...]</td>\n",
              "    </tr>\n",
              "  </tbody>\n",
              "</table>\n",
              "<p>81 rows × 6 columns</p>\n",
              "</div>"
            ],
            "text/plain": [
              "                                                        MovieLink  ...                                                                                                                                                                                                                                                                                                                                                                                                                                                                                                                                                                                                                                                                                                                                                                                                                                                                                                                                                                                                                                                                                                                                                                                                                                                                                                                                                                                                                                                                                        noun_chunks\n",
              "0    https://www.imdb.com/title/tt8332922/reviews/?ref_=tt_ql_urv  ...                                                                                                                                                                                                                                                                                                                                                                                                                                                                                                                                                                                                                                                                                                                                                                                                                                                                                                                                                                                                                                                                                                                     [you, the first one, you, this one, Most sequels, flop, the powers, the audience, the same thing, the original, More bad guys, more explosions, everything, story, depth, character development, A Quiet Place II, that trap, It, it, the point, fact, we, the first film, it, the original, I, it, the first instalment, places, it, any fault, it, the runtime, We, who, 's]\n",
              "0    https://www.imdb.com/title/tt6654210/reviews/?ref_=tt_ql_urv  ...                                                                                                                                                                                                                                                                                                                                                                                                                                                                                                                                                                                                                                                                                                                                                                                                                                                                                                                                                                                                                                                                                                                                                                                                                                                                                                                  [The main motive, the villian, he, all the lives, earth, it, he, a bullet, the memory, the people, a chip, she, My question, he, the bullet, his head, this problem, an easy way]\n",
              "0    https://www.imdb.com/title/tt0993840/reviews/?ref_=tt_ql_urv  ...                                                                                                                                                                                                                                                                                                                                        [I, these lists, they, movie, random order, A leader zombie, top, a tall building, a helicopter, it, ground level, the helicopter, his dead horse.2, The more people, a nuke, they, they, a nuke, the way, a helicopter, you, you, the pilot, a speech, you, permission, board, all.4, A piece, shift metal, a helmet, a magnet, all bullets, that person, a mark, it, 10+ hits.5: A woman, who, she, a plan, a zombie head, the helicopter, she, she, a plan.6, The Military, their orders, 2-3 times, they, seemingly no training.7, dark skin, you, massive nuclear radiation, the same way, it, you, the UV rays, the sun, a very pale person.8, A young woman, no military training, trouble, a zombie, the head, point blank range, 8 running zombies, the head, 8 bullets, a distance.9, A movie, very little character development.10, People, a young man, \"a kid, fun, him, he, the nerdy safe cracker, him, huge biceps, broad shoulders, we, all nerds, real life.11, Noone, a billionaire, a team, pocket cash, him.12, A random woman, she, a helicopter, we, she, a billionaire, a live zombie head, himself, he, a few hunters, a net, ...]\n",
              "0   https://www.imdb.com/title/tt10418662/reviews/?ref_=tt_ql_urv  ...                                                                                                                                                                                                                                                                                                                                                                                                                                                                                                                                                                                                                                                                                                          [The premise, I, high hopes, the plot, time, any kind, consistent manner, this film, the same time, I, a film, It, a small subtitle day, day, it, more sense, People, hours, no sense, a lot, questions, The scene, the prisoners, the guards, the doors, It, no sense, a simply and more plausible answer, the doors, the event, the one prisoner, them, he, the hub, the family, no idea, the family, Why was dodge, he, the massive plot hole, I, the reason, it, no one, the film, the basic question, what, the girl, the others, A team, scientists, She, the girl, it, they, the mom, the lake, her, a pillow, her head, the defibrillator, I, the director, water, a kind, baptism, a religious route, the end, the religious people, the film, a real shame, the acting, itself]\n",
              "0    https://www.imdb.com/title/tt6644200/reviews/?ref_=tt_ql_urv  ...                                                                                                                                                                                                                                                                       [Anyone, who, the world, movies, a pretty good idea, the main concept, a quiet place, beings, you, you, a noise, The film, these beings, we, they, they, the face, the planet, a pretty radical way, We, the Abbot family, who, a remote country house, an elaborate system, the main thing, they, The incredible result, that premise, the film, very little dialogue, great use, visuals, sound, truly stunning set pieces, this film, anything, Emily Blunt, a stellar performance, the film, the action, the premise, it, real substance, its characters, their relationships, A very artificial conflict, the dad, his daughter, it, it, a later version, the script, some sort, emotional arc, the characters, the result, the film, very clear rules, what, the creatures, they, they, obstacles, their path, they, animals, the list, The result, one point, the dramatic needs, the story, it, our ability, disbelief, it, the film, the film's internal logic, a similar note, the middle, the film, John Krasinski, his son, some point, they, a waterfall, Krasinski, yelling, his son, a louder sound, them, they, I, the same thing, the first half, the film, these creatures, sounds, it, them, sounds, ...]\n",
              "..                                                            ...  ...                                                                                                                                                                                                                                                                                                                                                                                                                                                                                                                                                                                                                                                                                                                                                                                                                                                                                                                                                                                                                                                                                                                                                                                                                                                                                                                                                                                                                                                                                                ...\n",
              "0    https://www.imdb.com/title/tt0088247/reviews/?ref_=tt_ql_urv  ...  [The Terminator, a masterpiece, the best sci-fi action classics horror movie, all the Terminator movies, Schwarzenegger's best movie, my personal favorite action film, I, this film, death, it, my childhood film, I, it, Arnold Schwarzenegger, The Terminator, T-800 Model 101 indestructible killing machine cyborg, This movie, it, brilliant story, brilliant plot, excellent additional cast, brilliant director, writers, good special effects, it, sci-fi, action, horror, the war, the future, the battle, the present, It, paradox travel trough time, It, It, pity, remorse, fear, it, you, the perfect action film, all time, it, a cult classic, The plot, the script, excellent dialogues, it, someone, something, the future, it, a primal target, extermination, a killer cyborg, the future, the present, brilliant and excellent idea, story, Two naked men, different locations, los Angeles trough flash blue light, electricity, they, time, the year, the present year, a human, an indestructible cyborg, Sarah Connor, Linda Hamilton, the woman, whose unborn son, humanity's only hope, the future war, the machines, The other men, a soldier, the future, who, Sarah Connor, her, all cost, the basically plot, this film, James Cameron, this film, his, wife Gale Anne Hurd, who, this film, they, The script, the story, a perfect action entertainment trough whole film, Brad Fiedel, a wonderful music theme, The Terminator character, action sequences, ...]\n",
              "0    https://www.imdb.com/title/tt3498820/reviews/?ref_=tt_ql_urv  ...                                                                                                                                                                                                                                                                                                                                                                                                                                                                                                                                                                                                                                                                                                                                                                                                                                                                                                                                                                                                                                                                                                                                                                                                                     [Captain America Civil War, a gripping, bold, smart and awesome superhero movie, It, a talented cast, a great direction, awesome action sequences, spectacular and epic moments, the smarts, thriller, Captain America Civil War, a fun, epic and emotional ride, you, Rating]\n",
              "0    https://www.imdb.com/title/tt8695030/reviews/?ref_=tt_ql_urv  ...                                                                                                                                                                                                                                                                                                                                                                                                                                                                                                                                                                                                                                                                                                                                                                                                                                                                                                                                                                                                                                                                                                                                                                                                                                                                                                                                                                                 [I, the trailer, all the great actors, I, I, the whole thing, Such wasted talent, The acting, course, the writing]\n",
              "0    https://www.imdb.com/title/tt0066921/reviews/?ref_=tt_ql_urv  ...                                                                                                                                                                                                                                                                                                                                                                                                                                                                                                                                                                                                                                                                                                                                                                                                                                                                                                                                                                                                                                                                                                                                                                                                                                                                                                                                                                                           [This film, its characterization, The book, Stanley, a genius, who, a midas touch, Glory glory violence]\n",
              "0    https://www.imdb.com/title/tt2737304/reviews/?ref_=tt_ql_urv  ...                                                                                                                                                                                                                                                  [I, the most sensible reviews, It, it, I, this one, I, it, a seemingly justified mark, Bird Box, nothing, neither the horror genre, the apocalyptical movie isle, It, a great cast, a truly great performance, Sandra Bullock, big-budget-all-over cinematography, visual FX, shooting, locations, action, makeup, Many aspects, a masterful filmmaking, a high enough level, my only complaint, this matter, enough horror, this horror movie, A few moments, gore, mayhem, suspense, the genre, I, \"Bird Box, an r-rated apocalyptical adventure movie, a lot, teenagers, it's audience, I, a lot comparisons, the recent \"A Quiet Place, the reviews, I, who, them, I, \"A Quiet Place, a better horror movie, emphasis, horror\").So, you, me, you, the plot, It, so many ways, I, the book, the story, I, it, Bird Box, the viewer, a lot, questions, plot points, much sense, What, the entities, no origins, no explanation, it, the earth, it, whatever reason, it, any buildings, the start, the movie, the end, no development, the reasons, the apocalypse, the process, it, some people, themselves, the entities, others, I, they, someone, the protagonists, the entities, an explanation, not even a subtle hint, The entities, ...]\n",
              "\n",
              "[81 rows x 6 columns]"
            ]
          },
          "metadata": {
            "tags": []
          },
          "execution_count": 45
        }
      ]
    }
  ]
}